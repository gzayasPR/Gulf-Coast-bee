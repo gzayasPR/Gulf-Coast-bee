{
 "cells": [
  {
   "cell_type": "markdown",
   "id": "f9ac25b9-a536-4e80-a86d-4621138e8a2f",
   "metadata": {},
   "source": [
    "# Population Genomics for Hesperapis oraria  \n",
    "\n",
    "by: Gabriel Zayas"
   ]
  },
  {
   "cell_type": "markdown",
   "id": "c2d0fde6-05a0-4a2a-8b16-19516df8d44e",
   "metadata": {
    "jp-MarkdownHeadingCollapsed": true
   },
   "source": [
    "## Project Description\n",
    "\n",
    "Step 1) Variant Calling\n",
    "- Raw WGS Short reads from 18 Samples including male and female bees\n",
    "- FASTQC to investigate quality of short reads\n",
    "- Trim_galore to trim adaptors and remove low quality reads\n",
    "- BWA to map short reads to genome\n",
    "- qualimap to investigate quality of alignment\n",
    "- Remove duplicates with picard\n",
    "- Call intial variant with GATK"
   ]
  },
  {
   "cell_type": "markdown",
   "id": "e1a2352e-2d5c-403f-a2d1-0fea29421381",
   "metadata": {},
   "source": [
    "## Directory Setup"
   ]
  },
  {
   "cell_type": "raw",
   "id": "ceb9662d-0844-44d1-85af-c0edcbcac974",
   "metadata": {},
   "source": [
    "Hesperapis_oraria_Pop_genomics\n",
    "├── code\n",
    "│   ├── Variant_Calling\n",
    "|   |    ├── 0.Setup.sh\n",
    "|   |    ├── 1.runQC_Trim.sh\n",
    "|   |    ├── 1.5.mutiQC.sh\n",
    "|   |    ├── 2.runAlignment.sh\n",
    "|   |    ├── 2.5.Qualimap.sh\n",
    "|   |    ├── 3.runCleaning.sh\n",
    "|   |    ├── 3.5.Initial_variants.sh\n",
    "|   |    ├── project_env.sh\n",
    "|   |    ├── VC_env \n",
    "|   |    ├── scripts\n",
    "|   |    |   ├── Old\n",
    "|   |    |   ├── alignment.V2.sh\n",
    "|   |    |   ├── cleaning.bam.sh\n",
    "|   |    |   ├── trim_qualitycontrol.V2.sh\n",
    "|   |    |   └── variant.calling.sh\n",
    "|   |    └── VC_project_env.sh\n",
    "│   └── project_env.sh\n",
    "├── data\n",
    "│   ├── final_assembly\n",
    "│   |   └── Hesperapis_oraria_2.curatedScaff.clean_sort_rename_nuc.fasta\n",
    "│   └── raw_data\n",
    "│   ├── hic\n",
    "|   │   ├── iyHesOrar1_HiC_R1.fastq.gz \n",
    "|   │   └──  iyHesOrar1_HiC_R2.fastq.gz\n",
    "│   ├── hifi\n",
    "|   │   └──  m84125_231105_031910_s1.hifi_reads.default.bam\n",
    "│   └── illumina\n",
    "|       └── fastq\n",
    "|           ├── BLX2737  \n",
    "|           ├── BLX2739  \n",
    "|           ├── BLX2741  \n",
    "|           ├── BLX2744  \n",
    "|           ├── BLX2747  \n",
    "|           ├── BLX2751  \n",
    "|           ├── BLX2753  \n",
    "|           ├── BLX2755  \n",
    "|           ├── BLX2757  \n",
    "|           ├── Rawdata_Readme.pdf \n",
    "|           ├── BLX2738  \n",
    "|           ├── BLX2740  \n",
    "|           ├── BLX2743  \n",
    "|           ├── BLX2745  \n",
    "|           ├── BLX2748  \n",
    "|           ├── BLX2752  \n",
    "|           ├── BLX2754  \n",
    "|           ├── BLX2756  \n",
    "|           ├── BLX2759  \n",
    "|           └──  Samples.Metadata.csv\n",
    "└── results\n",
    "    └──  Variant_Calling\n",
    "         ├── 1.Trim_QC\n",
    "         ├── 2.Alignment\n",
    "         ├── 3.Cleaning\n",
    "         └── 3.5.Intial_calling \n"
   ]
  },
  {
   "cell_type": "markdown",
   "id": "2aaa4ba1-6a6f-4ec4-986f-06e920238057",
   "metadata": {},
   "source": [
    "# Variant Calling  \n",
    "1. Raw WGS Short reads from 18 Samples including male and female bees\n",
    "2. FASTQC to investigate quality of short reads\n",
    "3. Trim_galore to trim adaptors and remove low quality reads\n",
    "4. BWA to map short reads to genome\n",
    "5. qualimap to investigate quality of alignment\n",
    "6. Remove duplicates with picard\n",
    "7. Call intial variant with GATK"
   ]
  },
  {
   "cell_type": "markdown",
   "id": "4ca00ba9-7116-4ef0-83c8-39aafe804a26",
   "metadata": {},
   "source": [
    "## Settting up Enviroment"
   ]
  },
  {
   "cell_type": "code",
   "execution_count": null,
   "id": "5632e6e4-1fcd-43db-bd91-ab1eeb5bdb28",
   "metadata": {},
   "outputs": [
    {
     "name": "stdout",
     "output_type": "stream",
     "text": [
      "Project Directory: /90daydata/beenome100/hesperapis_oraria_genomics/Hesperapis_oraria_Pop_genomics/\n",
      "Code Directory: /90daydata/beenome100/hesperapis_oraria_genomics/Hesperapis_oraria_Pop_genomics//code/Variant_Calling/\n",
      "Data Directory: /90daydata/beenome100/hesperapis_oraria_genomics/Hesperapis_oraria_Pop_genomics//data/\n",
      "Results Directory: /90daydata/beenome100/hesperapis_oraria_genomics/Hesperapis_oraria_Pop_genomics//results/Variant_Calling/\n",
      "WARNING: A conda environment already exists at '/90daydata/beenome100/hesperapis_oraria_genomics/Hesperapis_oraria_Pop_genomics/code/Variant_Calling/VC_env'\n",
      "Remove existing environment (y/[n])? "
     ]
    }
   ],
   "source": [
    "import os \n",
    "!bash 0.Setup.sh"
   ]
  },
  {
   "cell_type": "code",
   "execution_count": null,
   "id": "a9b9687d-bed6-4e21-9494-b77b72e3a8dc",
   "metadata": {},
   "outputs": [],
   "source": []
  },
  {
   "cell_type": "markdown",
   "id": "bd8b8662-62fb-477d-ac33-0a05c69ea11b",
   "metadata": {},
   "source": [
    "## FastQC & Trim_Galore  \n",
    "\n",
    "- 1.runQC_Trim.sh is a shell script that runs your reads in parallel, it reads the names of you fastq files and runs trim_qualitycontrol.V2.sh in the script directory.  \n",
    "- trim_qualitycontrol.V2.sh reads in the name and paths of the short read files and runs a pre-trimming FASTQC analysis, trims the reads and removes low quality reads using trim_galore and then runs FASTQC on the post trimmed reads."
   ]
  },
  {
   "cell_type": "code",
   "execution_count": null,
   "id": "a99464f1-5968-4fd8-9eb0-d8a2ad8f0180",
   "metadata": {},
   "outputs": [],
   "source": [
    "!sbatch 1.runQC_Trim.sh"
   ]
  },
  {
   "cell_type": "markdown",
   "id": "219484b1-53f4-49fc-847a-1870809314da",
   "metadata": {},
   "source": [
    "### Multi_QC \n",
    "\n",
    "After the reads are all trimmed and FASTQC has been run on all smaples, you then run 1.5.multiQC.sh. Which aggregates all the reads and creates a multiqc report."
   ]
  },
  {
   "cell_type": "code",
   "execution_count": null,
   "id": "82c1c1ef-e441-4818-b809-b2043cb4030f",
   "metadata": {},
   "outputs": [],
   "source": [
    "!sbatch 1.5.mutiQC.sh"
   ]
  },
  {
   "cell_type": "markdown",
   "id": "cc2c2c3d-e6e1-4198-8e8f-59664a39e78b",
   "metadata": {},
   "source": [
    "## BWA Alignment  \n",
    "\n",
    "- 2.Alignment.sh is a shell script that runs your reads in parallel, it reads the names of you fastq files from your trimeed reads and runs alignmnet.sh in the script directory.  \n",
    "- alignment.sh reads in the name and paths of the short read files and aligns the reads to your reference genome using BWA mem. In addition the script sorts the sam output from BWA and converts them to BAM. Lastly, a qualimap report is generated for each sample."
   ]
  },
  {
   "cell_type": "code",
   "execution_count": null,
   "id": "337f93af-6fe6-48da-81af-3decd68252bf",
   "metadata": {},
   "outputs": [],
   "source": [
    "!sbatch 2.Alignment.sh"
   ]
  },
  {
   "cell_type": "markdown",
   "id": "e34c4fd2-9dd3-4161-9dfc-e1e4f15827e8",
   "metadata": {},
   "source": [
    "### Multi_QC Qualimap  \n",
    "\n",
    "2.5Qualimap.sh aggregates the results from the indivdual qualimap reports using multiqc. Note there is information lost in the multiqc, so investigation of both aggregate and indvidual reports may be necessary. "
   ]
  },
  {
   "cell_type": "code",
   "execution_count": null,
   "id": "1337bf37-f647-4670-bdb9-6637f7c5484e",
   "metadata": {},
   "outputs": [],
   "source": [
    "!sbatch 2.5Qualimap.sh"
   ]
  },
  {
   "cell_type": "markdown",
   "id": "7d7fb71b-7096-4a50-b5d0-89289fe93932",
   "metadata": {},
   "source": [
    "## Mark Duplicates & GATK"
   ]
  },
  {
   "cell_type": "code",
   "execution_count": null,
   "id": "79200ee3-4940-471c-9cc4-9dfc7344219f",
   "metadata": {},
   "outputs": [],
   "source": [
    "!sbatch 3.runCleaning.sh"
   ]
  },
  {
   "cell_type": "markdown",
   "id": "f68b337e-b072-40d8-b8e2-125232e7dc8f",
   "metadata": {},
   "source": [
    "### Initial Calling"
   ]
  },
  {
   "cell_type": "code",
   "execution_count": null,
   "id": "186afeda-6405-476a-9c7b-dba9b0389a72",
   "metadata": {},
   "outputs": [],
   "source": [
    "!sbatch 3.5.Initial_variants.sh"
   ]
  }
 ],
 "metadata": {
  "kernelspec": {
   "display_name": "Python 3 (ipykernel)",
   "language": "python",
   "name": "python3"
  },
  "language_info": {
   "codemirror_mode": {
    "name": "ipython",
    "version": 3
   },
   "file_extension": ".py",
   "mimetype": "text/x-python",
   "name": "python",
   "nbconvert_exporter": "python",
   "pygments_lexer": "ipython3",
   "version": "3.9.14"
  }
 },
 "nbformat": 4,
 "nbformat_minor": 5
}
