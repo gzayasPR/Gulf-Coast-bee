{
 "cells": [
  {
   "cell_type": "markdown",
   "id": "0dcb4cb6",
   "metadata": {},
   "source": [
    "\n",
    "# Variant Calling Workflow for *Hesperapis oraria*\n",
    "\n",
    "**Author**: Gabriel Zayas\n",
    "\n",
    "## Overview\n",
    "\n",
    "This notebook outlines a step-by-step workflow for calling genetic variants in the *Hesperapis oraria* genome project. The workflow involves processing raw Whole Genome Sequencing (WGS) data, aligning it to a reference genome, and identifying variants using industry-standard tools such as GATK and DeepVariant. \n",
    "\n",
    "This guide will walk you through each step, providing the necessary commands and explanations to understand and replicate the analysis.\n"
   ]
  },
  {
   "cell_type": "markdown",
   "id": "fc3a5f7e",
   "metadata": {},
   "source": [
    "\n",
    "## Project Description\n",
    "\n",
    "The goal of this project is to identify genetic variants within the *Hesperapis oraria* population using WGS data. The workflow consists of the following key steps:\n",
    "\n",
    "1. **Quality Control**: Assess raw reads quality using FastQC.\n",
    "2. **Read Trimming**: Remove low-quality sequences and adapters with Trim_Galore.\n",
    "3. **Mapping**: Align trimmed reads to the reference genome using BWA.\n",
    "4. **Alignment Quality Assessment**: Evaluate the quality of the alignment with Qualimap.\n",
    "5. **Duplicate Removal**: Remove PCR duplicates using Picard.\n",
    "6. **Variant Calling**: Identify genetic variants with GATK and DeepVariant.\n",
    "7. **Merging and Filtering**: Merge variant calls and perform quality control.\n"
   ]
  },
  {
   "cell_type": "markdown",
   "id": "68833655",
   "metadata": {},
   "source": [
    "\n",
    "## Step 0: Setting Up the Environment\n",
    "\n",
    "Before starting the variant calling process, set up the computational environment by creating and activating a conda environment. This environment contains all the necessary tools for the workflow.\n",
    "\n",
    "**Script:** `0.Setup.sh`\n",
    "\n",
    "This script sets up the necessary directories and installs the required software packages.\n"
   ]
  },
  {
   "cell_type": "code",
   "execution_count": 1,
   "id": "29e6bead",
   "metadata": {},
   "outputs": [
    {
     "name": "stdout",
     "output_type": "stream",
     "text": [
      "Project Directory: /project/90daydata/beenome100/hesperapis_oraria_genomics/Test.Hesperapis_oraria_Pop_genomics\n",
      "Code Directory: /project/90daydata/beenome100/hesperapis_oraria_genomics/Test.Hesperapis_oraria_Pop_genomics/code/Long_read_Variant_Calling/\n",
      "Data Directory: /project/90daydata/beenome100/hesperapis_oraria_genomics/Test.Hesperapis_oraria_Pop_genomics/data/\n",
      "Results Directory: /project/90daydata/beenome100/hesperapis_oraria_genomics/Test.Hesperapis_oraria_Pop_genomics/results/Long_read_Variant_Calling/\n"
     ]
    }
   ],
   "source": [
    "# Check if the conda environment is activated and the necessary directories exist\n",
    "import os\n",
    "# Execute the environment setup script\n",
    "!bash 0.Setup.sh"
   ]
  },
  {
   "cell_type": "markdown",
   "id": "e9d96b01",
   "metadata": {},
   "source": [
    "## Step 1: Investigate Quality Control\n",
    "\n",
    "\n",
    "**Script:** `runQC.sh`\n"
   ]
  },
  {
   "cell_type": "code",
   "execution_count": 9,
   "id": "d74ce018",
   "metadata": {},
   "outputs": [
    {
     "name": "stdout",
     "output_type": "stream",
     "text": [
      "Submitted batch job 15692783\n"
     ]
    }
   ],
   "source": [
    "!rm runQC_*.out\n",
    "!rm runQC_*.err\n",
    "!sbatch runQC.sh"
   ]
  },
  {
   "cell_type": "markdown",
   "id": "006be46c",
   "metadata": {},
   "source": [
    "## Step 2: Alignment\n",
    "\n",
    "### Alignment with Minimap2\n",
    "\n",
    "The alignment process is a critical step in the variant calling workflow. It involves mapping the trimmed reads to the reference genome to determine their exact location within the genome. This is essential for identifying genetic variants with high precision.\n",
    "\n",
    "**Script:** `runAlignment.sh`\n",
    "\n",
    "This script automates the alignment of your trimmed reads to the reference genome using the BWA-MEM algorithm, which is specifically designed for high-throughput sequencing data. The process includes several steps:\n",
    "\n",
    "- **Parallel Processing:** The script processes multiple FASTQ files in parallel, improving efficiency and reducing overall runtime.\n",
    "- **Alignment:** The `alignment.sh` script reads the names and paths of the trimmed short-read files and aligns them to the reference genome using BWA-MEM.\n",
    "- **SAM to BAM Conversion:** The output from BWA, which is initially in SAM format, is sorted and converted to BAM format, a more compact and efficient format for downstream processing.\n",
    "- **Quality Assessment with Qualimap:** After alignment, a Qualimap report is generated for each sample. This report provides insights into the quality of the alignment, including metrics such as coverage depth and uniformity, ensuring the data is suitable for subsequent analysis."
   ]
  },
  {
   "cell_type": "code",
   "execution_count": 2,
   "id": "8588a320",
   "metadata": {},
   "outputs": [
    {
     "name": "stdout",
     "output_type": "stream",
     "text": [
      "Submitted batch job 15697988\n"
     ]
    }
   ],
   "source": [
    "!rm runAlign_*.out\n",
    "!rm runAlign_*.err\n",
    "!sbatch runAlignment.sh"
   ]
  },
  {
   "cell_type": "markdown",
   "id": "b7f1df33",
   "metadata": {},
   "source": [
    "## Calling Inbreeding with ANGSD\n",
    "\n",
    "**Script:** `inbreeding.sh`\n"
   ]
  },
  {
   "cell_type": "code",
   "execution_count": 23,
   "id": "705d1cd1",
   "metadata": {},
   "outputs": [
    {
     "name": "stdout",
     "output_type": "stream",
     "text": [
      "rm: cannot remove 'inbreeding_ANGSD_*.out': No such file or directory\n",
      "rm: cannot remove 'inbreeding_ANGSD_*.err': No such file or directory\n",
      "Submitted batch job 15698266\n"
     ]
    }
   ],
   "source": [
    "!rm inbreeding_ANGSD_*.out\n",
    "!rm inbreeding_ANGSD_*.err\n",
    "!sbatch inbreeding.sh"
   ]
  },
  {
   "cell_type": "markdown",
   "id": "1c420a2d",
   "metadata": {},
   "source": [
    "**Script:** `4.5.Final_variants.sh`\n",
    "\n",
    "This script performs the final genotyping step using GATK, ensuring that all identified variants are accurately genotyped according to the specified parameters."
   ]
  },
  {
   "cell_type": "code",
   "execution_count": 1,
   "id": "56019282",
   "metadata": {},
   "outputs": [
    {
     "name": "stdout",
     "output_type": "stream",
     "text": [
      "Submitted batch job 15643484\n"
     ]
    }
   ],
   "source": [
    "!sbatch 4.5.Final_variants.sh"
   ]
  },
  {
   "cell_type": "markdown",
   "id": "91e59278",
   "metadata": {},
   "source": [
    "## Step 5: Merging Final Genotyping Calls\n",
    "\n",
    "After the final variant calling, the genotypes need to be merged to create a unified variant dataset. This step ensures that all variants identified across scaffolds and different methods are accurately represented.\n",
    "\n",
    "**Scripts:**\n",
    "\n",
    "- `5.0.Merge_variants.sh`: This script merges the VCF files produced by GATK across different scaffolds, consolidating them into a single VCF file.\n",
    "- `Deep.variant_merge.sh`: This script merges the gVCF files generated by DeepVariant, creating a unified variant dataset into a single VCF file."
   ]
  },
  {
   "cell_type": "code",
   "execution_count": 1,
   "id": "a9db172e",
   "metadata": {},
   "outputs": [
    {
     "name": "stdout",
     "output_type": "stream",
     "text": [
      "Submitted batch job 15654031\n"
     ]
    }
   ],
   "source": [
    "#!sbatch 5.0.Merge_variants.sh\n",
    "!sbatch Deep.variant_merge.sh "
   ]
  },
  {
   "cell_type": "code",
   "execution_count": null,
   "id": "a919eb4a-a6d7-4b61-9192-e38f81bc92ed",
   "metadata": {},
   "outputs": [],
   "source": []
  }
 ],
 "metadata": {
  "kernelspec": {
   "display_name": "Python 3 (ipykernel)",
   "language": "python",
   "name": "python3"
  },
  "language_info": {
   "codemirror_mode": {
    "name": "ipython",
    "version": 3
   },
   "file_extension": ".py",
   "mimetype": "text/x-python",
   "name": "python",
   "nbconvert_exporter": "python",
   "pygments_lexer": "ipython3",
   "version": "3.9.14"
  }
 },
 "nbformat": 4,
 "nbformat_minor": 5
}
